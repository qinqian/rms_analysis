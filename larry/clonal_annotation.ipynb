{
 "cells": [
  {
   "cell_type": "code",
   "execution_count": 314,
   "metadata": {},
   "outputs": [],
   "source": [
    "import numpy as np, matplotlib.pyplot as plt, networkx as nx, pickle, json, gzip\n",
    "import pandas as pd\n",
    "%matplotlib inline"
   ]
  },
  {
   "cell_type": "markdown",
   "metadata": {},
   "source": [
    "## Set parameters\n",
    "\n",
    "N_READS: Cutoff for the min number of reads supporting a given UMI/GFP-BC pair in a particular cell\n",
    "\n",
    "N_UMIS: Cutoff for the min number of UMIs supporting a given cell/GFP-BC pair\n",
    "\n",
    "N_HAMMING: Cutoff for the max hamming distance to collapse two GFP-BCs\n",
    "\n",
    "CELL_BCS_PATH: Path to a .txt file with one cell-BC per line, corresponding to rows of the gene expression counts matrix\n",
    "\n",
    "LIB_NAMES_PATH: Path to a .txt file with one library name per line, corresponding to rows of the gene expression counts matrix\n",
    "\n"
   ]
  },
  {
   "cell_type": "code",
   "execution_count": 315,
   "metadata": {},
   "outputs": [],
   "source": [
    "N_READS = 10\n",
    "N_UMIS = 3\n",
    "N_HAMMING = 3\n",
    "\n",
    "# CELL_BCS_PATH = 'cell_bcs_flat.txt'\n",
    "# LIB_NAMES_PATH = 'samp_id_flat.txt'"
   ]
  },
  {
   "cell_type": "code",
   "execution_count": 316,
   "metadata": {},
   "outputs": [],
   "source": [
    "cell_barcodes1 = pd.read_table('Differentiated/outs/filtered_feature_bc_matrix/barcodes.tsv.gz',\n",
    "                               header=None)\n",
    "cell_barcodes2 = pd.read_table('Regular/outs/filtered_feature_bc_matrix/barcodes.tsv.gz',\n",
    "                               header=None)\n",
    "\n",
    "cell_barcodes1.loc[:, 'library'] = 'Differentiated'\n",
    "cell_barcodes2.loc[:, 'library'] = 'Regular'\n",
    "cell_barcodes = pd.concat([cell_barcodes1, cell_barcodes2])\n",
    "cell_barcodes.iloc[:, 0] = list(map(lambda x:x.split('-')[0], list(cell_barcodes.iloc[:, 0].values)))"
   ]
  },
  {
   "cell_type": "code",
   "execution_count": 317,
   "metadata": {},
   "outputs": [
    {
     "data": {
      "text/plain": [
       "((4070, 2), (4070,))"
      ]
     },
     "execution_count": 317,
     "metadata": {},
     "output_type": "execute_result"
    }
   ],
   "source": [
    "cell_barcodes1.shape, cell_barcodes1.iloc[:, 0].unique().shape"
   ]
  },
  {
   "cell_type": "code",
   "execution_count": 318,
   "metadata": {},
   "outputs": [
    {
     "data": {
      "text/html": [
       "<div>\n",
       "<style scoped>\n",
       "    .dataframe tbody tr th:only-of-type {\n",
       "        vertical-align: middle;\n",
       "    }\n",
       "\n",
       "    .dataframe tbody tr th {\n",
       "        vertical-align: top;\n",
       "    }\n",
       "\n",
       "    .dataframe thead th {\n",
       "        text-align: right;\n",
       "    }\n",
       "</style>\n",
       "<table border=\"1\" class=\"dataframe\">\n",
       "  <thead>\n",
       "    <tr style=\"text-align: right;\">\n",
       "      <th></th>\n",
       "      <th>0</th>\n",
       "      <th>library</th>\n",
       "    </tr>\n",
       "  </thead>\n",
       "  <tbody>\n",
       "    <tr>\n",
       "      <th>0</th>\n",
       "      <td>AAACCCACAAACGTGG</td>\n",
       "      <td>Differentiated</td>\n",
       "    </tr>\n",
       "    <tr>\n",
       "      <th>1</th>\n",
       "      <td>AAACCCACACAGCGCT</td>\n",
       "      <td>Differentiated</td>\n",
       "    </tr>\n",
       "    <tr>\n",
       "      <th>2</th>\n",
       "      <td>AAACGAAAGCAGCGAT</td>\n",
       "      <td>Differentiated</td>\n",
       "    </tr>\n",
       "    <tr>\n",
       "      <th>3</th>\n",
       "      <td>AAACGAACAATCGCCG</td>\n",
       "      <td>Differentiated</td>\n",
       "    </tr>\n",
       "    <tr>\n",
       "      <th>4</th>\n",
       "      <td>AAACGAACAGCACGAA</td>\n",
       "      <td>Differentiated</td>\n",
       "    </tr>\n",
       "  </tbody>\n",
       "</table>\n",
       "</div>"
      ],
      "text/plain": [
       "                  0         library\n",
       "0  AAACCCACAAACGTGG  Differentiated\n",
       "1  AAACCCACACAGCGCT  Differentiated\n",
       "2  AAACGAAAGCAGCGAT  Differentiated\n",
       "3  AAACGAACAATCGCCG  Differentiated\n",
       "4  AAACGAACAGCACGAA  Differentiated"
      ]
     },
     "execution_count": 318,
     "metadata": {},
     "output_type": "execute_result"
    }
   ],
   "source": [
    "cell_bcs = cell_barcodes.iloc[:, 0].values\n",
    "lib_names = cell_barcodes.iloc[:, 1].values\n",
    "cell_barcodes.head()"
   ]
  },
  {
   "cell_type": "code",
   "execution_count": 319,
   "metadata": {},
   "outputs": [
    {
     "data": {
      "text/html": [
       "<div>\n",
       "<style scoped>\n",
       "    .dataframe tbody tr th:only-of-type {\n",
       "        vertical-align: middle;\n",
       "    }\n",
       "\n",
       "    .dataframe tbody tr th {\n",
       "        vertical-align: top;\n",
       "    }\n",
       "\n",
       "    .dataframe thead th {\n",
       "        text-align: right;\n",
       "    }\n",
       "</style>\n",
       "<table border=\"1\" class=\"dataframe\">\n",
       "  <thead>\n",
       "    <tr style=\"text-align: right;\">\n",
       "      <th></th>\n",
       "      <th>0</th>\n",
       "      <th>library</th>\n",
       "    </tr>\n",
       "  </thead>\n",
       "  <tbody>\n",
       "    <tr>\n",
       "      <th>0</th>\n",
       "      <td>AAACCCACAAACGTGG-1</td>\n",
       "      <td>Differentiated</td>\n",
       "    </tr>\n",
       "    <tr>\n",
       "      <th>1</th>\n",
       "      <td>AAACCCACACAGCGCT-1</td>\n",
       "      <td>Differentiated</td>\n",
       "    </tr>\n",
       "    <tr>\n",
       "      <th>2</th>\n",
       "      <td>AAACGAAAGCAGCGAT-1</td>\n",
       "      <td>Differentiated</td>\n",
       "    </tr>\n",
       "    <tr>\n",
       "      <th>3</th>\n",
       "      <td>AAACGAACAATCGCCG-1</td>\n",
       "      <td>Differentiated</td>\n",
       "    </tr>\n",
       "    <tr>\n",
       "      <th>4</th>\n",
       "      <td>AAACGAACAGCACGAA-1</td>\n",
       "      <td>Differentiated</td>\n",
       "    </tr>\n",
       "  </tbody>\n",
       "</table>\n",
       "</div>"
      ],
      "text/plain": [
       "                    0         library\n",
       "0  AAACCCACAAACGTGG-1  Differentiated\n",
       "1  AAACCCACACAGCGCT-1  Differentiated\n",
       "2  AAACGAAAGCAGCGAT-1  Differentiated\n",
       "3  AAACGAACAATCGCCG-1  Differentiated\n",
       "4  AAACGAACAGCACGAA-1  Differentiated"
      ]
     },
     "execution_count": 319,
     "metadata": {},
     "output_type": "execute_result"
    }
   ],
   "source": [
    "cell_barcodes1.head()"
   ]
  },
  {
   "cell_type": "code",
   "execution_count": 320,
   "metadata": {},
   "outputs": [],
   "source": [
    "cell_barcodes1 = list(map(lambda x:x.split('-')[0], cell_barcodes1.iloc[:, 0].values))\n",
    "cell_barcodes2 = list(map(lambda x:x.split('-')[0], cell_barcodes2.iloc[:, 0].values))\n",
    "\n",
    "cell_barcodes = {'Differentiated': cell_barcodes1, 'Regular': cell_barcodes2}"
   ]
  },
  {
   "cell_type": "code",
   "execution_count": 321,
   "metadata": {},
   "outputs": [
    {
     "data": {
      "text/plain": [
       "['AAACCCACAAACGTGG',\n",
       " 'AAACCCACACAGCGCT',\n",
       " 'AAACGAAAGCAGCGAT',\n",
       " 'AAACGAACAATCGCCG',\n",
       " 'AAACGAACAGCACGAA',\n",
       " 'AAACGAATCCCATTCG',\n",
       " 'AAACGCTCAGAGGAAA',\n",
       " 'AAACGCTCAGGAGGTT',\n",
       " 'AAACGCTCATACTGTG',\n",
       " 'AAACGCTGTGAGACGT']"
      ]
     },
     "execution_count": 321,
     "metadata": {},
     "output_type": "execute_result"
    }
   ],
   "source": [
    "cell_barcodes1[:10]"
   ]
  },
  {
   "cell_type": "code",
   "execution_count": 323,
   "metadata": {},
   "outputs": [],
   "source": [
    "# cell_barcodes.shape, cell_bcs.shape, lib_names.shape"
   ]
  },
  {
   "cell_type": "markdown",
   "metadata": {},
   "source": [
    "## Read input files"
   ]
  },
  {
   "cell_type": "code",
   "execution_count": 6,
   "metadata": {},
   "outputs": [],
   "source": [
    "# cell_bcs = open(CELL_BCS_PATH).read().strip('\\n').split('\\n')\n",
    "# lib_names = open(LIB_NAMES_PATH).read().strip('\\n').split('\\n')"
   ]
  },
  {
   "cell_type": "code",
   "execution_count": 178,
   "metadata": {},
   "outputs": [
    {
     "data": {
      "text/plain": [
       "(array(['AAACCCACAAACGTGG', 'AAACCCACACAGCGCT', 'AAACGAAAGCAGCGAT',\n",
       "        'AAACGAACAATCGCCG', 'AAACGAACAGCACGAA'], dtype=object),\n",
       " array(['Differentiated', 'Differentiated', 'Differentiated',\n",
       "        'Differentiated', 'Differentiated'], dtype=object))"
      ]
     },
     "execution_count": 178,
     "metadata": {},
     "output_type": "execute_result"
    }
   ],
   "source": [
    "cell_bcs[:5], lib_names[:5]"
   ]
  },
  {
   "cell_type": "markdown",
   "metadata": {},
   "source": [
    "## Load data and count reads\n",
    "\n",
    "Read in the output of step 1 (LARRY_sorting_and_filtering.py) and count the number of reads supporting each (Sample, Cell-BC, UMI, GFP-BC) combination"
   ]
  },
  {
   "cell_type": "code",
   "execution_count": 324,
   "metadata": {},
   "outputs": [],
   "source": [
    "# counts = {}\n",
    "# # f = gzip.open('LARRY_sorted_and_filtered_barcodes.fastq.gz')\n",
    "# import glob\n",
    "# for inf in glob.glob('*/*BC.txt.gz'):\n",
    "#     sample = os.path.basename(inf).split('_')[0]  \n",
    "#     print(sample)\n",
    "#     f = open(inf)\n",
    "#     l = f.readline().strip('\\n')\n",
    "#     current_tag = []\n",
    "#     i = 0\n",
    "#     print('Reading in all barcodes')\n",
    "#     while not (l == '' and len(current_tag)==0):\n",
    "#         i += 1\n",
    "#         if i % (1000000)==0: print('Processed '+repr(int(i/3))+' reads')\n",
    "#         if l == '':\n",
    "#             current_tag = []\n",
    "#         elif l[0] == '>':\n",
    "#             current_tag = l[1:].split(',')\n",
    "#         elif l != '' and len(current_tag)==3:\n",
    "#             current_tag.append(l)\n",
    "#             current_tag = tuple(current_tag)\n",
    "#             #print(current_tag[1])\n",
    "#             if current_tag[1] in cell_barcodes[current_tag[0]]:\n",
    "#                 if not current_tag in counts: counts[current_tag] = 0\n",
    "#                 counts[current_tag] += 1                 \n",
    "#         l = f.readline().strip('\\n')\n",
    "#     f.close()\n",
    "#     #break"
   ]
  },
  {
   "cell_type": "code",
   "execution_count": 330,
   "metadata": {},
   "outputs": [
    {
     "name": "stdout",
     "output_type": "stream",
     "text": [
      "Differentiated\n",
      "Reading in all barcodes\n",
      "Processed 1000000 reads\n",
      "Processed 2000000 reads\n",
      "Processed 3000000 reads\n",
      "Processed 4000000 reads\n",
      "Processed 5000000 reads\n",
      "Processed 6000000 reads\n",
      "Processed 7000000 reads\n",
      "Processed 8000000 reads\n",
      "Processed 9000000 reads\n",
      "Differentiated\n",
      "Reading in all barcodes\n",
      "Processed 1000000 reads\n",
      "Processed 2000000 reads\n",
      "Processed 3000000 reads\n",
      "Processed 4000000 reads\n",
      "Processed 5000000 reads\n",
      "Processed 6000000 reads\n",
      "Processed 7000000 reads\n",
      "Processed 8000000 reads\n",
      "Processed 9000000 reads\n",
      "Differentiated\n",
      "Reading in all barcodes\n",
      "Processed 1000000 reads\n",
      "Processed 2000000 reads\n",
      "Processed 3000000 reads\n",
      "Processed 4000000 reads\n",
      "Processed 5000000 reads\n",
      "Processed 6000000 reads\n",
      "Processed 7000000 reads\n",
      "Processed 8000000 reads\n",
      "Processed 9000000 reads\n",
      "Differentiated\n",
      "Reading in all barcodes\n",
      "Processed 1000000 reads\n",
      "Processed 2000000 reads\n",
      "Processed 3000000 reads\n",
      "Processed 4000000 reads\n",
      "Processed 5000000 reads\n",
      "Processed 6000000 reads\n",
      "Processed 7000000 reads\n",
      "Processed 8000000 reads\n",
      "Processed 9000000 reads\n",
      "Regular\n",
      "Reading in all barcodes\n",
      "Processed 1000000 reads\n",
      "Processed 2000000 reads\n",
      "Processed 3000000 reads\n",
      "Processed 4000000 reads\n",
      "Processed 5000000 reads\n",
      "Processed 6000000 reads\n",
      "Processed 7000000 reads\n",
      "Processed 8000000 reads\n",
      "Processed 9000000 reads\n",
      "Processed 10000000 reads\n",
      "Processed 11000000 reads\n",
      "Processed 12000000 reads\n",
      "Processed 13000000 reads\n",
      "Regular\n",
      "Reading in all barcodes\n",
      "Processed 1000000 reads\n",
      "Processed 2000000 reads\n",
      "Processed 3000000 reads\n",
      "Processed 4000000 reads\n",
      "Processed 5000000 reads\n",
      "Processed 6000000 reads\n",
      "Processed 7000000 reads\n",
      "Processed 8000000 reads\n",
      "Processed 9000000 reads\n",
      "Processed 10000000 reads\n",
      "Processed 11000000 reads\n",
      "Processed 12000000 reads\n",
      "Processed 13000000 reads\n",
      "Regular\n",
      "Reading in all barcodes\n",
      "Processed 1000000 reads\n",
      "Processed 2000000 reads\n",
      "Processed 3000000 reads\n",
      "Processed 4000000 reads\n",
      "Processed 5000000 reads\n",
      "Processed 6000000 reads\n",
      "Processed 7000000 reads\n",
      "Processed 8000000 reads\n",
      "Processed 9000000 reads\n",
      "Processed 10000000 reads\n",
      "Processed 11000000 reads\n",
      "Processed 12000000 reads\n",
      "Processed 13000000 reads\n",
      "Regular\n",
      "Reading in all barcodes\n",
      "Processed 1000000 reads\n",
      "Processed 2000000 reads\n",
      "Processed 3000000 reads\n",
      "Processed 4000000 reads\n",
      "Processed 5000000 reads\n",
      "Processed 6000000 reads\n",
      "Processed 7000000 reads\n",
      "Processed 8000000 reads\n",
      "Processed 9000000 reads\n",
      "Processed 10000000 reads\n",
      "Processed 11000000 reads\n",
      "Processed 12000000 reads\n",
      "Processed 13000000 reads\n"
     ]
    }
   ],
   "source": [
    "import gzip\n",
    "counts = {}\n",
    "# f = gzip.open('LARRY_sorted_and_filtered_barcodes.fastq.gz')\n",
    "import glob\n",
    "for inf in glob.glob('*2/*BC.txt.gz'):\n",
    "    sample = os.path.basename(inf).split('_')[0]  \n",
    "    print(sample)\n",
    "    f = gzip.open(inf)\n",
    "    l = f.readline().decode(\"utf-8\").strip('\\n')\n",
    "    current_tag = []\n",
    "    i = 0\n",
    "    print('Reading in all barcodes')\n",
    "    while not (l == '' and len(current_tag)==0):\n",
    "        i += 1\n",
    "        if i % (3*10**6)==0: print('Processed '+repr(int(i/3))+' reads')\n",
    "        if l == '':\n",
    "            current_tag = []\n",
    "        elif l[0] == '>':\n",
    "            current_tag = l[1:].split(',')\n",
    "        elif l != '' and len(current_tag)==3:\n",
    "            current_tag.append(l)\n",
    "            current_tag = tuple(current_tag)\n",
    "            if not current_tag in counts: counts[current_tag] = 0\n",
    "            counts[current_tag] += 1\n",
    "\n",
    "        l = f.readline().decode(\"utf-8\").strip('\\n')\n",
    "    f.close()"
   ]
  },
  {
   "cell_type": "code",
   "execution_count": 331,
   "metadata": {},
   "outputs": [
    {
     "data": {
      "text/plain": [
       "10452547"
      ]
     },
     "execution_count": 331,
     "metadata": {},
     "output_type": "execute_result"
    }
   ],
   "source": [
    "len(counts.keys())"
   ]
  },
  {
   "cell_type": "code",
   "execution_count": 332,
   "metadata": {},
   "outputs": [],
   "source": [
    "import pickle"
   ]
  },
  {
   "cell_type": "code",
   "execution_count": 312,
   "metadata": {},
   "outputs": [],
   "source": [
    "# with open('larry_barcodes.pkl', 'wb') as pkl:\n",
    "#     pickle.dump(counts, pkl)"
   ]
  },
  {
   "cell_type": "code",
   "execution_count": 313,
   "metadata": {},
   "outputs": [
    {
     "name": "stdout",
     "output_type": "stream",
     "text": [
      "1.1G\tlarry_barcodes.pkl\r\n"
     ]
    }
   ],
   "source": [
    "# !du -sh larry_barcodes.pkl"
   ]
  },
  {
   "cell_type": "markdown",
   "metadata": {},
   "source": [
    "## Filter by number of reads\n",
    "Continue with analysis with (Sample, Cell-BC, UMI, GFP-BC) combinations supported by at least N_READS reads"
   ]
  },
  {
   "cell_type": "code",
   "execution_count": 333,
   "metadata": {},
   "outputs": [],
   "source": [
    "num_reads = [v for k,v in counts.items()]"
   ]
  },
  {
   "cell_type": "code",
   "execution_count": 91,
   "metadata": {},
   "outputs": [
    {
     "data": {
      "text/plain": [
       "138024033"
      ]
     },
     "execution_count": 91,
     "metadata": {},
     "output_type": "execute_result"
    }
   ],
   "source": [
    "# sum(num_reads) # all cell barcode"
   ]
  },
  {
   "cell_type": "code",
   "execution_count": 334,
   "metadata": {},
   "outputs": [
    {
     "data": {
      "text/plain": [
       "138014962"
      ]
     },
     "execution_count": 334,
     "metadata": {},
     "output_type": "execute_result"
    }
   ],
   "source": [
    "sum(num_reads) # condition specific barcode"
   ]
  },
  {
   "cell_type": "code",
   "execution_count": 87,
   "metadata": {},
   "outputs": [
    {
     "data": {
      "image/png": "[encoded data removed]",
      "text/plain": [
       "<Figure size 432x288 with 1 Axes>"
      ]
     },
     "metadata": {
      "needs_background": "light"
     },
     "output_type": "display_data"
    }
   ],
   "source": [
    "# # To specify the number of ticks on both or any single axes\n",
    "# plt.hist(np.log(num_reads)/np.log(10), bins=50)\n",
    "# plt.locator_params(axis='x', nbins=5)\n",
    "# #pyplot.locator_params(axis='x', nbins=10)\n",
    "# plt.plot([np.log(N_READS)/np.log(10),\n",
    "#           np.log(N_READS)/np.log(N_READS)],[1,10**5],'-k',linewidth=2)\n",
    "# plt.xticks(range(6),np.logspace(0,5,6))\n",
    "# plt.text(np.log(N_READS)/np.log(10)*1.1,10**5*.8,'N_READS cutoff', fontsize=12)\n",
    "# plt.yscale('log')"
   ]
  },
  {
   "cell_type": "code",
   "execution_count": 335,
   "metadata": {},
   "outputs": [
    {
     "data": {
      "image/png": "[encoded data removed]",
      "text/plain": [
       "<Figure size 432x288 with 1 Axes>"
      ]
     },
     "metadata": {
      "needs_background": "light"
     },
     "output_type": "display_data"
    }
   ],
   "source": [
    "# To specify the number of ticks on both or any single axes\n",
    "plt.hist(np.log(num_reads)/np.log(10), bins=50)\n",
    "plt.locator_params(axis='x', nbins=5)\n",
    "#pyplot.locator_params(axis='x', nbins=10)\n",
    "plt.plot([np.log(N_READS)/np.log(10),\n",
    "          np.log(N_READS)/np.log(N_READS)],[1,10**5],'-k',linewidth=2)\n",
    "plt.xticks(range(6),np.logspace(0,5,6))\n",
    "plt.text(np.log(N_READS)/np.log(10)*1.1,10**5*.8,'N_READS cutoff', fontsize=12)\n",
    "plt.yscale('log')"
   ]
  },
  {
   "cell_type": "code",
   "execution_count": 88,
   "metadata": {},
   "outputs": [
    {
     "name": "stdout",
     "output_type": "stream",
     "text": [
      "Retaining 1177481 out of 10455433 (Sample,Cell-BC,UMI,GFP-BC) combinations\n"
     ]
    }
   ],
   "source": [
    "# counts_filtered = {k:v for k,v in counts.items() if v >= N_READS}\n",
    "# print('Retaining '+repr(len(counts_filtered))+ ' out of '+repr(len(counts))+' (Sample,Cell-BC,UMI,GFP-BC) combinations')"
   ]
  },
  {
   "cell_type": "code",
   "execution_count": 336,
   "metadata": {},
   "outputs": [
    {
     "name": "stdout",
     "output_type": "stream",
     "text": [
      "Retaining 1177403 out of 10452547 (Sample,Cell-BC,UMI,GFP-BC) combinations\n"
     ]
    }
   ],
   "source": [
    "counts_filtered = {k:v for k,v in counts.items() if v >= N_READS}\n",
    "print('Retaining '+repr(len(counts_filtered))+ ' out of '+repr(len(counts))+' (Sample,Cell-BC,UMI,GFP-BC) combinations')"
   ]
  },
  {
   "cell_type": "markdown",
   "metadata": {},
   "source": [
    "## Collapse GFP-BCs by hamming distance"
   ]
  },
  {
   "cell_type": "code",
   "execution_count": 337,
   "metadata": {},
   "outputs": [
    {
     "name": "stdout",
     "output_type": "stream",
     "text": [
      "Mapped 500 out of 9938 barcodes\n",
      "Mapped 1000 out of 9938 barcodes\n",
      "Mapped 1500 out of 9938 barcodes\n",
      "Mapped 2000 out of 9938 barcodes\n",
      "Mapped 2500 out of 9938 barcodes\n",
      "Mapped 3000 out of 9938 barcodes\n",
      "Mapped 3500 out of 9938 barcodes\n",
      "Mapped 4000 out of 9938 barcodes\n",
      "Mapped 4500 out of 9938 barcodes\n",
      "Mapped 5000 out of 9938 barcodes\n",
      "Mapped 5500 out of 9938 barcodes\n",
      "Mapped 6000 out of 9938 barcodes\n",
      "Mapped 6500 out of 9938 barcodes\n",
      "Mapped 7000 out of 9938 barcodes\n",
      "Mapped 7500 out of 9938 barcodes\n",
      "Mapped 8000 out of 9938 barcodes\n",
      "Mapped 8500 out of 9938 barcodes\n",
      "Mapped 9000 out of 9938 barcodes\n",
      "Mapped 9500 out of 9938 barcodes\n",
      "\n",
      "Collapsed 3159 barcodes\n"
     ]
    }
   ],
   "source": [
    "def hamming(bc1,bc2): return np.sum([x1 != x2 for x1,x2 in zip(bc1,bc2)])\n",
    "\n",
    "all_gfp_bcs = sorted(set([k[3] for k in counts_filtered]))\n",
    "good_gfp_bcs = []\n",
    "bc_map = {}\n",
    "for i,bc1 in enumerate(all_gfp_bcs):\n",
    "    if i > 0 and i % 500 == 0: print('Mapped '+repr(i)+' out of '+repr(len(all_gfp_bcs))+' barcodes')\n",
    "    mapped = False\n",
    "    for bc2 in good_gfp_bcs:\n",
    "        if hamming(bc1,bc2) <= N_HAMMING:\n",
    "            mapped = True\n",
    "            bc_map[bc1] = bc2\n",
    "            break\n",
    "    if not mapped:\n",
    "        good_gfp_bcs.append(bc1)\n",
    "\n",
    "print('\\nCollapsed '+repr(len(bc_map))+' barcodes')\n",
    "for bc in good_gfp_bcs: bc_map[bc] = bc"
   ]
  },
  {
   "cell_type": "code",
   "execution_count": 338,
   "metadata": {},
   "outputs": [
    {
     "data": {
      "text/plain": [
       "9938"
      ]
     },
     "execution_count": 338,
     "metadata": {},
     "output_type": "execute_result"
    }
   ],
   "source": [
    "len(bc_map)"
   ]
  },
  {
   "cell_type": "markdown",
   "metadata": {},
   "source": [
    "## Filter GFP-barcodes by UMI\n",
    "Index (UMI, GFP-BC) combinations to cells, then filter out BCs supported by fewer than N_UMIS UMIs"
   ]
  },
  {
   "cell_type": "code",
   "execution_count": 339,
   "metadata": {},
   "outputs": [
    {
     "data": {
      "text/plain": [
       "[('Differentiated',\n",
       "  'TATTTCGGTACTGGGA',\n",
       "  'TTCCCGATCAAA',\n",
       "  'CCAATGGCGCCATGCAACCTCCGAAAACG'),\n",
       " ('Differentiated',\n",
       "  'CATCCCATCTCAACCC',\n",
       "  'GATCGAATGGTA',\n",
       "  'CAAGTGACAGCATGTGACGCTTGACGACG'),\n",
       " ('Differentiated',\n",
       "  'TTCCAATCAGACCCGT',\n",
       "  'CCTACTACAGTA',\n",
       "  'GGCGTGAACCCAGGCCACTCCTGAGCCTG')]"
      ]
     },
     "execution_count": 339,
     "metadata": {},
     "output_type": "execute_result"
    }
   ],
   "source": [
    "list(counts_filtered.keys())[:3]"
   ]
  },
  {
   "cell_type": "code",
   "execution_count": 340,
   "metadata": {},
   "outputs": [
    {
     "data": {
      "text/plain": [
       "(7897, 7897)"
      ]
     },
     "execution_count": 340,
     "metadata": {},
     "output_type": "execute_result"
    }
   ],
   "source": [
    "len(cell_bcs), len(cell_data)"
   ]
  },
  {
   "cell_type": "code",
   "execution_count": 341,
   "metadata": {},
   "outputs": [
    {
     "name": "stdout",
     "output_type": "stream",
     "text": [
      "Regular TTTGTTGTCTACCCAC\n",
      "\n",
      "Final annotation has 4918 clones in 5320 cells\n"
     ]
    },
    {
     "data": {
      "image/png": "[encoded data removed]",
      "text/plain": [
       "<Figure size 432x288 with 1 Axes>"
      ]
     },
     "metadata": {
      "needs_background": "light"
     },
     "output_type": "display_data"
    }
   ],
   "source": [
    "cell_data = {}\n",
    "for lib,cell in zip(lib_names,cell_bcs):\n",
    "    cell_data[(lib,cell)] = {}\n",
    "print(lib,cell)\n",
    "for lib,cell,umi,BC in counts_filtered.keys():\n",
    "    if (lib,cell) in cell_data:\n",
    "        if not BC in cell_data[(lib,cell)]:\n",
    "            cell_data[(lib,cell)][BC] = 0\n",
    "        cell_data[(lib,cell)][BC] += 1\n",
    "\n",
    "xaxis = 50        \n",
    "BC_lists = []\n",
    "for i in range(1,xaxis):\n",
    "    BC_list = []\n",
    "    for lib,cell in zip(lib_names,cell_bcs):\n",
    "        bc_counts = cell_data[(lib,cell)]\n",
    "        valid_bcs = [bc_map[k] for k,v in bc_counts.items() if v >= i]\n",
    "        BC_list.append(''.join(sorted(valid_bcs)))\n",
    "    BC_lists.append(BC_list)\n",
    "\n",
    "efficiency = np.array([len([ll for ll in l if len(ll)>0]) for l in BC_lists]) / len(cell_bcs)\n",
    "plt.plot(range(1,xaxis),efficiency)\n",
    "plt.plot([N_UMIS,N_UMIS],[np.min(efficiency),np.max(efficiency)],'-k',linewidth=2)\n",
    "plt.text(N_UMIS*1.1,np.max(efficiency)*.95,'UMI cutoff',fontsize=14)\n",
    "\n",
    "final_BCs = BC_lists[N_UMIS-1]\n",
    "print('\\nFinal annotation has '+repr(len(set(final_BCs)))+' clones in '+repr(len([l for l in final_BCs if len(l)>0]))+' cells')"
   ]
  },
  {
   "cell_type": "code",
   "execution_count": 342,
   "metadata": {},
   "outputs": [],
   "source": [
    "# cell_data = {}\n",
    "# for lib,cell in zip(lib_names,cell_bcs):\n",
    "#     cell_data[(lib,cell)] = {}\n",
    "# print(lib,cell)\n",
    "# for lib,cell,umi,BC in counts_filtered.keys():\n",
    "#     if (lib,cell) in cell_data:\n",
    "#         if not BC in cell_data[(lib,cell)]:\n",
    "#             cell_data[(lib,cell)][BC] = 0\n",
    "#         cell_data[(lib,cell)][BC] += 1\n",
    "\n",
    "# xaxis = 50        \n",
    "# BC_lists = []\n",
    "# for i in range(1,xaxis):\n",
    "#     BC_list = []\n",
    "#     for lib,cell in zip(lib_names,cell_bcs):\n",
    "#         bc_counts = cell_data[(lib,cell)]\n",
    "#         valid_bcs = [bc_map[k] for k,v in bc_counts.items() if v >= i]\n",
    "#         BC_list.append(''.join(sorted(valid_bcs)))\n",
    "#     BC_lists.append(BC_list)\n",
    "\n",
    "# efficiency = np.array([len([ll for ll in l if len(ll)>0]) for l in BC_lists]) / len(cell_bcs)\n",
    "# plt.plot(range(1,xaxis),efficiency)\n",
    "# plt.plot([N_UMIS,N_UMIS],[np.min(efficiency),np.max(efficiency)],'-k',linewidth=2)\n",
    "# plt.text(N_UMIS*1.1,np.max(efficiency)*.95,'UMI cutoff',fontsize=14)\n",
    "\n",
    "# final_BCs = BC_lists[N_UMIS-1]\n",
    "# print('\\nFinal annotation has '+repr(len(set(final_BCs)))+' clones in '+repr(len([l for l in final_BCs if l!='']))+' cells')"
   ]
  },
  {
   "cell_type": "code",
   "execution_count": 343,
   "metadata": {},
   "outputs": [],
   "source": [
    "# cell_data = {}\n",
    "# for lib,cell in zip(lib_names,cell_bcs):\n",
    "#     cell_data[(lib,cell)] = {}\n",
    "# print(lib,cell)\n",
    "# for lib,cell,umi,BC in counts_filtered.keys():\n",
    "#     if (lib,cell) in cell_data:\n",
    "#         if not BC in cell_data[(lib,cell)]:\n",
    "#             cell_data[(lib,cell)][BC] = 0\n",
    "#         cell_data[(lib,cell)][BC] += 1\n",
    "\n",
    "# xaxis = 50        \n",
    "# BC_lists = []\n",
    "# for i in range(1,xaxis):\n",
    "#     BC_list = []\n",
    "#     for lib,cell in zip(lib_names,cell_bcs):\n",
    "#         bc_counts = cell_data[(lib,cell)]\n",
    "#         valid_bcs = [bc_map[k] for k,v in bc_counts.items() if v >= i]\n",
    "#         BC_list.append(''.join(sorted(valid_bcs)))\n",
    "#     BC_lists.append(BC_list)\n",
    "\n",
    "# efficiency = np.array([len([ll for ll in l if len(ll)>0]) for l in BC_lists]) / len(cell_bcs)\n",
    "# plt.plot(range(1,xaxis),efficiency)\n",
    "# plt.plot([N_UMIS,N_UMIS],[np.min(efficiency),np.max(efficiency)],'-k',linewidth=2)\n",
    "# plt.text(N_UMIS*1.1,np.max(efficiency)*.95,'UMI cutoff',fontsize=14)\n",
    "\n",
    "# final_BCs = BC_lists[N_UMIS-1]\n",
    "# print('\\nFinal annotation has '+repr(len(set(final_BCs)))+' clones in '+repr(len([l for l in final_BCs if l!='']))+' cells')"
   ]
  },
  {
   "cell_type": "code",
   "execution_count": 344,
   "metadata": {},
   "outputs": [],
   "source": [
    "freq = []\n",
    "for lib,cell in zip(lib_names,cell_bcs):\n",
    "    freq.append(len(cell_data[(lib,cell)].keys()))"
   ]
  },
  {
   "cell_type": "code",
   "execution_count": 345,
   "metadata": {},
   "outputs": [
    {
     "data": {
      "text/plain": [
       "[2, 0, 0, 1, 1, 0, 0, 0, 0, 3]"
      ]
     },
     "execution_count": 345,
     "metadata": {},
     "output_type": "execute_result"
    }
   ],
   "source": [
    "freq[:10]"
   ]
  },
  {
   "cell_type": "code",
   "execution_count": 346,
   "metadata": {},
   "outputs": [
    {
     "data": {
      "image/png": "[encoded data removed]",
      "text/plain": [
       "<Figure size 432x288 with 1 Axes>"
      ]
     },
     "metadata": {
      "needs_background": "light"
     },
     "output_type": "display_data"
    }
   ],
   "source": [
    "plt.hist(freq, bins=30)\n",
    "plt.yscale('log')"
   ]
  },
  {
   "cell_type": "code",
   "execution_count": 347,
   "metadata": {},
   "outputs": [
    {
     "data": {
      "text/plain": [
       "3"
      ]
     },
     "execution_count": 347,
     "metadata": {},
     "output_type": "execute_result"
    }
   ],
   "source": [
    "freq = []\n",
    "for lib,cell in zip(lib_names,cell_bcs):\n",
    "    freq.append(len([cell_data[(lib,cell)][key] for key in cell_data[(lib,cell)].keys() if cell_data[(lib,cell)][key]>=N_UMIS]))\n",
    "N_UMIS    "
   ]
  },
  {
   "cell_type": "code",
   "execution_count": 348,
   "metadata": {},
   "outputs": [
    {
     "data": {
      "image/png": "[encoded data removed]",
      "text/plain": [
       "<Figure size 432x288 with 1 Axes>"
      ]
     },
     "metadata": {
      "needs_background": "light"
     },
     "output_type": "display_data"
    }
   ],
   "source": [
    "plt.hist(freq, bins=30)\n",
    "plt.yscale('log')"
   ]
  },
  {
   "cell_type": "code",
   "execution_count": 349,
   "metadata": {},
   "outputs": [
    {
     "data": {
      "text/plain": [
       "(7897, 49)"
      ]
     },
     "execution_count": 349,
     "metadata": {},
     "output_type": "execute_result"
    }
   ],
   "source": [
    "len(BC_list), len(BC_lists)"
   ]
  },
  {
   "cell_type": "markdown",
   "metadata": {},
   "source": [
    "## Output clonal anotations\n",
    "There are three output files: \n",
    "- clone_mat.csv\n",
    "- clone_mat.npy\n",
    "- barcode_list.txt\n",
    "\n",
    "The two clone_mat files store a binary matrix where rows are cells and columns are clones. A \"1\" at entry (i,j) indicates that cell i belongs to clone j. The barcode_list file stores the barcode for each cell. Two barcode strings separated by an underscore indicates that the cell contains multiple barcodes. An empty line implies no barcode for that cell."
   ]
  },
  {
   "cell_type": "code",
   "execution_count": 352,
   "metadata": {},
   "outputs": [
    {
     "data": {
      "text/plain": [
       "(array([2577.,    0., 4547.,    0.,  641.,    0.,  112.,    0.,   15.,\n",
       "           5.]),\n",
       " array([  0. ,  14.5,  29. ,  43.5,  58. ,  72.5,  87. , 101.5, 116. ,\n",
       "        130.5, 145. ]),\n",
       " <BarContainer object of 10 artists>)"
      ]
     },
     "execution_count": 352,
     "metadata": {},
     "output_type": "execute_result"
    },
    {
     "data": {
      "image/png": "[encoded data removed]",
      "text/plain": [
       "<Figure size 432x288 with 1 Axes>"
      ]
     },
     "metadata": {
      "needs_background": "light"
     },
     "output_type": "display_data"
    }
   ],
   "source": [
    "plt.hist(list(map(lambda x:len(x), final_BCs)))"
   ]
  },
  {
   "cell_type": "code",
   "execution_count": 353,
   "metadata": {},
   "outputs": [
    {
     "data": {
      "text/plain": [
       "(7897, 4918)"
      ]
     },
     "execution_count": 353,
     "metadata": {},
     "output_type": "execute_result"
    }
   ],
   "source": [
    "len(final_BCs), len(set(final_BCs))"
   ]
  },
  {
   "cell_type": "code",
   "execution_count": 354,
   "metadata": {},
   "outputs": [
    {
     "data": {
      "text/plain": [
       "4918"
      ]
     },
     "execution_count": 354,
     "metadata": {},
     "output_type": "execute_result"
    }
   ],
   "source": [
    "testaa = list(set(final_BCs))\n",
    "len(testaa)"
   ]
  },
  {
   "cell_type": "code",
   "execution_count": 355,
   "metadata": {},
   "outputs": [
    {
     "data": {
      "text/plain": [
       "5320"
      ]
     },
     "execution_count": 355,
     "metadata": {},
     "output_type": "execute_result"
    }
   ],
   "source": [
    "len([l for l in final_BCs if l!=''])"
   ]
  },
  {
   "cell_type": "code",
   "execution_count": 356,
   "metadata": {},
   "outputs": [
    {
     "data": {
      "text/plain": [
       "4917"
      ]
     },
     "execution_count": 356,
     "metadata": {},
     "output_type": "execute_result"
    }
   ],
   "source": [
    "len(set(sorted([bc for bc in final_BCs if bc != ''])))"
   ]
  },
  {
   "cell_type": "code",
   "execution_count": 357,
   "metadata": {},
   "outputs": [],
   "source": [
    "BC_set = sorted(set([bc for bc in final_BCs if bc != '']))\n",
    "clone_mat = np.zeros((len(final_BCs),len(BC_set)))\n",
    "for i,bc in enumerate(final_BCs):\n",
    "    if bc != '':\n",
    "        j = BC_set.index(bc)\n",
    "        clone_mat[i,j] = 1\n",
    "clone_mat = np.array(clone_mat,dtype=int)"
   ]
  },
  {
   "cell_type": "code",
   "execution_count": 358,
   "metadata": {},
   "outputs": [
    {
     "data": {
      "text/plain": [
       "((7897, 4917), list)"
      ]
     },
     "execution_count": 358,
     "metadata": {},
     "output_type": "execute_result"
    }
   ],
   "source": [
    "clone_mat.shape, type(BC_set)"
   ]
  },
  {
   "cell_type": "code",
   "execution_count": 359,
   "metadata": {},
   "outputs": [
    {
     "data": {
      "image/png": "[encoded data removed]",
      "text/plain": [
       "<Figure size 432x288 with 1 Axes>"
      ]
     },
     "metadata": {
      "needs_background": "light"
     },
     "output_type": "display_data"
    }
   ],
   "source": [
    "plt.hist(clone_mat.sum(axis=0))\n",
    "plt.yscale('log')"
   ]
  },
  {
   "cell_type": "code",
   "execution_count": 360,
   "metadata": {},
   "outputs": [],
   "source": [
    "# np.savetxt('RD_Larry_clone_mat.csv',clone_mat,delimiter=',',fmt='%i')\n",
    "# np.save('RD_Larry_clone_mat.npy',clone_mat)\n",
    "# open('RD_barcode_list.txt','w').write('\\n'.join(final_BCs))"
   ]
  },
  {
   "cell_type": "code",
   "execution_count": 301,
   "metadata": {},
   "outputs": [
    {
     "data": {
      "text/plain": [
       "172681"
      ]
     },
     "execution_count": 301,
     "metadata": {},
     "output_type": "execute_result"
    }
   ],
   "source": [
    "# np.savetxt('RD_larry_clone_mat_condition_specific.csv',clone_mat,delimiter=',',fmt='%i')\n",
    "# np.save('RD_larry_clone_mat_condition_specific.npy',clone_mat)\n",
    "# open('RD_larrybarcode_cell_list_condition_specific.txt','w').write('\\n'.join(final_BCs))\n",
    "# open('RD_larrybarcode_list_condition_specific.txt','w').write('\\n'.join(list(BC_set)))"
   ]
  },
  {
   "cell_type": "code",
   "execution_count": 361,
   "metadata": {},
   "outputs": [
    {
     "data": {
      "text/plain": [
       "172681"
      ]
     },
     "execution_count": 361,
     "metadata": {},
     "output_type": "execute_result"
    }
   ],
   "source": [
    "np.savetxt('RD_larry_clone_mat_condition_specific2.csv',clone_mat,delimiter=',',fmt='%i')\n",
    "np.save('RD_larry_clone_mat_condition_specific2.npy',clone_mat)\n",
    "open('RD_larrybarcode_cell_list_condition_specific2.txt','w').write('\\n'.join(final_BCs))\n",
    "open('RD_larrybarcode_list_condition_specific2.txt','w').write('\\n'.join(list(BC_set)))"
   ]
  },
  {
   "cell_type": "code",
   "execution_count": 302,
   "metadata": {},
   "outputs": [
    {
     "data": {
      "text/plain": [
       "4917"
      ]
     },
     "execution_count": 302,
     "metadata": {},
     "output_type": "execute_result"
    }
   ],
   "source": [
    "len(BC_set)"
   ]
  },
  {
   "cell_type": "code",
   "execution_count": 303,
   "metadata": {},
   "outputs": [
    {
     "data": {
      "text/plain": [
       "(7897, 4917)"
      ]
     },
     "execution_count": 303,
     "metadata": {},
     "output_type": "execute_result"
    }
   ],
   "source": [
    "clone_mat.shape"
   ]
  },
  {
   "cell_type": "code",
   "execution_count": 304,
   "metadata": {},
   "outputs": [
    {
     "data": {
      "text/plain": [
       "['ATGATGTATACAAATAACAAATGATTGAGCTCCTGTCGACACCCGACTCGGGAAGGAG',\n",
       " '',\n",
       " '',\n",
       " '',\n",
       " '',\n",
       " '',\n",
       " '',\n",
       " '',\n",
       " '',\n",
       " 'AATCTGAGTCCAACACACTACCGAGGATGAATTTGATTGCACGAGACAGCCGACCTTG',\n",
       " 'GTGCTGCATGCAATCGACCTTTGAATCCG',\n",
       " 'AGATTGCAGACAGAAGACGGAAGAACGGG',\n",
       " 'GACCTGTAGGCAAGTCACCCAAGAATCAG',\n",
       " '',\n",
       " 'TAACTGAACCCAGAACACCGGAGAAATAGTGAGTGCGATCATGCAACATTAGACACGG',\n",
       " 'TAACTGGTTTCACAGGACATTAGAGGAGG',\n",
       " '',\n",
       " 'CAAGTGATACCAAGACACGTTAGAATATG',\n",
       " 'GCACTGACACCAAGCCACAGTTGACGACG',\n",
       " 'GATTTGAATACACACTACCTTGGACTAGGTGGATGATCACAAGAAACCTTTGACGAAG',\n",
       " '',\n",
       " '',\n",
       " '',\n",
       " '',\n",
       " 'ATACTGCGAGCATATCACGCCCGAACTCG',\n",
       " 'CTCGTGAGTACACATAACCTAAGACCTAG',\n",
       " 'CAATTGCCACCACACGACCTCAGATTCTG',\n",
       " 'ACTATGCAGTCATAGAACCACAGATAAGG',\n",
       " 'ATATTGCCACCACGGCACAATTGAAAACGCCCCTGAATGCACTCCACAGTTGATTAAG',\n",
       " 'CCAGTGAGGACACGAGACGCCAGACGAAGCCCCTGATGGCACTGGACAGACGACTATGGTGCTGACGCCACATAACAAGAGAATTAG']"
      ]
     },
     "execution_count": 304,
     "metadata": {},
     "output_type": "execute_result"
    }
   ],
   "source": [
    "final_BCs[:30]"
   ]
  },
  {
   "cell_type": "code",
   "execution_count": 362,
   "metadata": {},
   "outputs": [],
   "source": [
    "cell_barcodes1 = pd.read_table('Differentiated/outs/filtered_feature_bc_matrix/barcodes.tsv.gz',\n",
    "                               header=None)\n",
    "cell_barcodes2 = pd.read_table('Regular/outs/filtered_feature_bc_matrix/barcodes.tsv.gz',\n",
    "                               header=None)\n",
    "\n",
    "cell_barcodes1.loc[:, 'library'] = 'Differentiated'\n",
    "cell_barcodes2.loc[:, 'library'] = 'Regular'\n",
    "cell_barcodes = pd.concat([cell_barcodes1, cell_barcodes2])\n",
    "\n",
    "cell_barcodes.iloc[:, 0] = list(map(lambda x:x.split('-')[0], list(cell_barcodes.iloc[:, 0].values)))"
   ]
  },
  {
   "cell_type": "code",
   "execution_count": 363,
   "metadata": {},
   "outputs": [
    {
     "data": {
      "text/plain": [
       "(7897, 2)"
      ]
     },
     "execution_count": 363,
     "metadata": {},
     "output_type": "execute_result"
    }
   ],
   "source": [
    "cell_barcodes.shape"
   ]
  },
  {
   "cell_type": "code",
   "execution_count": 364,
   "metadata": {},
   "outputs": [],
   "source": [
    "cell_barcodes.to_csv('RD_cellbarcode_list_condition_specific.txt')"
   ]
  }
 ],
 "metadata": {
  "kernelspec": {
   "display_name": "Python 3",
   "language": "python",
   "name": "python3"
  },
  "language_info": {
   "codemirror_mode": {
    "name": "ipython",
    "version": 3
   },
   "file_extension": ".py",
   "mimetype": "text/x-python",
   "name": "python",
   "nbconvert_exporter": "python",
   "pygments_lexer": "ipython3",
   "version": "3.8.8"
  },
  "toc": {
   "base_numbering": 1,
   "nav_menu": {},
   "number_sections": true,
   "sideBar": true,
   "skip_h1_title": false,
   "title_cell": "Table of Contents",
   "title_sidebar": "Contents",
   "toc_cell": false,
   "toc_position": {},
   "toc_section_display": true,
   "toc_window_display": true
  }
 },
 "nbformat": 4,
 "nbformat_minor": 2
}
