{
 "cells": [
  {
   "cell_type": "code",
   "execution_count": 16,
   "metadata": {},
   "outputs": [],
   "source": [
    "import numpy as np, matplotlib.pyplot as plt, networkx as nx, pickle, json, gzip\n",
    "import pandas as pd\n",
    "%matplotlib inline"
   ]
  },
  {
   "cell_type": "markdown",
   "metadata": {},
   "source": [
    "## Set parameters\n",
    "\n",
    "N_READS: Cutoff for the min number of reads supporting a given UMI/GFP-BC pair in a particular cell\n",
    "\n",
    "N_UMIS: Cutoff for the min number of UMIs supporting a given cell/GFP-BC pair\n",
    "\n",
    "N_HAMMING: Cutoff for the max hamming distance to collapse two GFP-BCs\n",
    "\n",
    "CELL_BCS_PATH: Path to a .txt file with one cell-BC per line, corresponding to rows of the gene expression counts matrix\n",
    "\n",
    "LIB_NAMES_PATH: Path to a .txt file with one library name per line, corresponding to rows of the gene expression counts matrix\n",
    "\n"
   ]
  },
  {
   "cell_type": "code",
   "execution_count": 17,
   "metadata": {},
   "outputs": [],
   "source": [
    "N_READS = 10\n",
    "N_UMIS = 3\n",
    "N_HAMMING = 3\n",
    "\n",
    "# CELL_BCS_PATH = 'cell_bcs_flat.txt'\n",
    "# LIB_NAMES_PATH = 'samp_id_flat.txt'"
   ]
  },
  {
   "cell_type": "code",
   "execution_count": 18,
   "metadata": {},
   "outputs": [],
   "source": [
    "cell_barcodes1 = pd.read_table('Diff_3/outs/filtered_feature_bc_matrix/barcodes.tsv.gz',\n",
    "                               header=None)\n",
    "cell_barcodes2 = pd.read_table('Diff_4/outs/filtered_feature_bc_matrix/barcodes.tsv.gz',\n",
    "                               header=None)\n",
    "\n",
    "cell_barcodes3 = pd.read_table('Regular_1/outs/filtered_feature_bc_matrix/barcodes.tsv.gz',\n",
    "                               header=None)\n",
    "cell_barcodes4 = pd.read_table('Regular_2/outs/filtered_feature_bc_matrix/barcodes.tsv.gz',\n",
    "                               header=None)\n",
    "\n",
    "cell_barcodes1.loc[:, 'library'] = 'Diff_3'\n",
    "cell_barcodes2.loc[:, 'library'] = 'Diff_4'\n",
    "cell_barcodes3.loc[:, 'library'] = 'Regular_1'\n",
    "cell_barcodes4.loc[:, 'library'] = 'Regular_2'\n",
    "\n",
    "cell_barcodes = pd.concat([cell_barcodes1, cell_barcodes2, cell_barcodes3, cell_barcodes4])\n",
    "cell_barcodes.iloc[:, 0] = list(map(lambda x:x.split('-')[0], list(cell_barcodes.iloc[:, 0].values)))"
   ]
  },
  {
   "cell_type": "code",
   "execution_count": 19,
   "metadata": {},
   "outputs": [
    {
     "data": {
      "text/html": [
       "<div>\n",
       "<style scoped>\n",
       "    .dataframe tbody tr th:only-of-type {\n",
       "        vertical-align: middle;\n",
       "    }\n",
       "\n",
       "    .dataframe tbody tr th {\n",
       "        vertical-align: top;\n",
       "    }\n",
       "\n",
       "    .dataframe thead th {\n",
       "        text-align: right;\n",
       "    }\n",
       "</style>\n",
       "<table border=\"1\" class=\"dataframe\">\n",
       "  <thead>\n",
       "    <tr style=\"text-align: right;\">\n",
       "      <th></th>\n",
       "      <th>0</th>\n",
       "      <th>library</th>\n",
       "    </tr>\n",
       "  </thead>\n",
       "  <tbody>\n",
       "    <tr>\n",
       "      <th>0</th>\n",
       "      <td>AAACCCAAGACATGCG</td>\n",
       "      <td>Diff_3</td>\n",
       "    </tr>\n",
       "    <tr>\n",
       "      <th>1</th>\n",
       "      <td>AAACCCAGTCCGAAAG</td>\n",
       "      <td>Diff_3</td>\n",
       "    </tr>\n",
       "    <tr>\n",
       "      <th>2</th>\n",
       "      <td>AAACCCATCAATCCGA</td>\n",
       "      <td>Diff_3</td>\n",
       "    </tr>\n",
       "    <tr>\n",
       "      <th>3</th>\n",
       "      <td>AAACCCATCGGAACTT</td>\n",
       "      <td>Diff_3</td>\n",
       "    </tr>\n",
       "    <tr>\n",
       "      <th>4</th>\n",
       "      <td>AAACCCATCTGCTAGA</td>\n",
       "      <td>Diff_3</td>\n",
       "    </tr>\n",
       "  </tbody>\n",
       "</table>\n",
       "</div>"
      ],
      "text/plain": [
       "                  0 library\n",
       "0  AAACCCAAGACATGCG  Diff_3\n",
       "1  AAACCCAGTCCGAAAG  Diff_3\n",
       "2  AAACCCATCAATCCGA  Diff_3\n",
       "3  AAACCCATCGGAACTT  Diff_3\n",
       "4  AAACCCATCTGCTAGA  Diff_3"
      ]
     },
     "execution_count": 19,
     "metadata": {},
     "output_type": "execute_result"
    }
   ],
   "source": [
    "cell_barcodes.head()"
   ]
  },
  {
   "cell_type": "code",
   "execution_count": 20,
   "metadata": {},
   "outputs": [
    {
     "data": {
      "text/plain": [
       "(27506, 2)"
      ]
     },
     "execution_count": 20,
     "metadata": {},
     "output_type": "execute_result"
    }
   ],
   "source": [
    "cell_barcodes.shape"
   ]
  },
  {
   "cell_type": "code",
   "execution_count": 21,
   "metadata": {},
   "outputs": [
    {
     "data": {
      "text/html": [
       "<div>\n",
       "<style scoped>\n",
       "    .dataframe tbody tr th:only-of-type {\n",
       "        vertical-align: middle;\n",
       "    }\n",
       "\n",
       "    .dataframe tbody tr th {\n",
       "        vertical-align: top;\n",
       "    }\n",
       "\n",
       "    .dataframe thead th {\n",
       "        text-align: right;\n",
       "    }\n",
       "</style>\n",
       "<table border=\"1\" class=\"dataframe\">\n",
       "  <thead>\n",
       "    <tr style=\"text-align: right;\">\n",
       "      <th></th>\n",
       "      <th>0</th>\n",
       "      <th>library</th>\n",
       "    </tr>\n",
       "  </thead>\n",
       "  <tbody>\n",
       "    <tr>\n",
       "      <th>0</th>\n",
       "      <td>AAACCCAAGACATGCG</td>\n",
       "      <td>Diff_3</td>\n",
       "    </tr>\n",
       "    <tr>\n",
       "      <th>1</th>\n",
       "      <td>AAACCCAGTCCGAAAG</td>\n",
       "      <td>Diff_3</td>\n",
       "    </tr>\n",
       "    <tr>\n",
       "      <th>2</th>\n",
       "      <td>AAACCCATCAATCCGA</td>\n",
       "      <td>Diff_3</td>\n",
       "    </tr>\n",
       "    <tr>\n",
       "      <th>3</th>\n",
       "      <td>AAACCCATCGGAACTT</td>\n",
       "      <td>Diff_3</td>\n",
       "    </tr>\n",
       "    <tr>\n",
       "      <th>4</th>\n",
       "      <td>AAACCCATCTGCTAGA</td>\n",
       "      <td>Diff_3</td>\n",
       "    </tr>\n",
       "  </tbody>\n",
       "</table>\n",
       "</div>"
      ],
      "text/plain": [
       "                  0 library\n",
       "0  AAACCCAAGACATGCG  Diff_3\n",
       "1  AAACCCAGTCCGAAAG  Diff_3\n",
       "2  AAACCCATCAATCCGA  Diff_3\n",
       "3  AAACCCATCGGAACTT  Diff_3\n",
       "4  AAACCCATCTGCTAGA  Diff_3"
      ]
     },
     "execution_count": 21,
     "metadata": {},
     "output_type": "execute_result"
    }
   ],
   "source": [
    "cell_bcs = cell_barcodes.iloc[:, 0].values\n",
    "lib_names = cell_barcodes.iloc[:, 1].values\n",
    "cell_barcodes.head()"
   ]
  },
  {
   "cell_type": "code",
   "execution_count": 22,
   "metadata": {},
   "outputs": [
    {
     "data": {
      "text/plain": [
       "array(['AAACCCAAGACATGCG', 'AAACCCAGTCCGAAAG', 'AAACCCATCAATCCGA',\n",
       "       'AAACCCATCGGAACTT', 'AAACCCATCTGCTAGA', 'AAACGAAAGTTTGGCT',\n",
       "       'AAACGAACACGCTGCA', 'AAACGAACAGACGCTC', 'AAACGAACATCAGCTA',\n",
       "       'AAACGAAGTTCCTAAG'], dtype=object)"
      ]
     },
     "execution_count": 22,
     "metadata": {},
     "output_type": "execute_result"
    }
   ],
   "source": [
    "cell_bcs[:10]"
   ]
  },
  {
   "cell_type": "code",
   "execution_count": 23,
   "metadata": {},
   "outputs": [
    {
     "data": {
      "text/plain": [
       "array(['Diff_3', 'Diff_3', 'Diff_3', 'Diff_3', 'Diff_3', 'Diff_3',\n",
       "       'Diff_3', 'Diff_3', 'Diff_3', 'Diff_3'], dtype=object)"
      ]
     },
     "execution_count": 23,
     "metadata": {},
     "output_type": "execute_result"
    }
   ],
   "source": [
    "lib_names[:10]"
   ]
  },
  {
   "cell_type": "code",
   "execution_count": 24,
   "metadata": {},
   "outputs": [
    {
     "data": {
      "text/plain": [
       "(array(['Diff_3', 'Diff_4', 'Regular_1', 'Regular_2'], dtype=object),\n",
       " array([ 5600,  5466, 10038,  6402]))"
      ]
     },
     "execution_count": 24,
     "metadata": {},
     "output_type": "execute_result"
    }
   ],
   "source": [
    "np.unique(lib_names, return_counts=True)"
   ]
  },
  {
   "cell_type": "markdown",
   "metadata": {},
   "source": [
    "## Read input files"
   ]
  },
  {
   "cell_type": "code",
   "execution_count": 25,
   "metadata": {},
   "outputs": [],
   "source": [
    "cell_barcodes1 = list(map(lambda x:x.split('-')[0], cell_barcodes1.iloc[:, 0].values))\n",
    "cell_barcodes2 = list(map(lambda x:x.split('-')[0], cell_barcodes2.iloc[:, 0].values))\n",
    "\n",
    "cell_barcodes3 = list(map(lambda x:x.split('-')[0], cell_barcodes3.iloc[:, 0].values))\n",
    "cell_barcodes4 = list(map(lambda x:x.split('-')[0], cell_barcodes4.iloc[:, 0].values))\n",
    "\n",
    "cell_barcodes = {'Diff_3': cell_barcodes1, 'Diff_4': cell_barcodes2,\n",
    "                 'Regular_1': cell_barcodes3, 'Regular_2': cell_barcodes4}"
   ]
  },
  {
   "cell_type": "markdown",
   "metadata": {},
   "source": [
    "## Load data and count reads\n",
    "\n",
    "Read in the output of step 1 (LARRY_sorting_and_filtering.py) and count the number of reads supporting each (Sample, Cell-BC, UMI, GFP-BC) combination"
   ]
  },
  {
   "cell_type": "code",
   "execution_count": 26,
   "metadata": {},
   "outputs": [
    {
     "data": {
      "text/plain": [
       "['Regular_1/Regular_1_S1_L002_BC.txt.gz',\n",
       " 'Regular_1/Regular_1_S1_L004_BC.txt.gz',\n",
       " 'Regular_1/Regular_1_S1_L001_BC.txt.gz',\n",
       " 'Regular_1/Regular_1_S1_L003_BC.txt.gz',\n",
       " 'Regular_2/Regular_2_S2_L002_BC.txt.gz',\n",
       " 'Regular_2/Regular_2_S2_L003_BC.txt.gz',\n",
       " 'Regular_2/Regular_2_S2_L004_BC.txt.gz',\n",
       " 'Regular_2/Regular_2_S2_L001_BC.txt.gz',\n",
       " 'Diff_3/Diff_3_S1_L001_BC.txt.gz',\n",
       " 'Diff_3/Diff_3_S1_L002_BC.txt.gz',\n",
       " 'Diff_3/Diff_3_S1_L004_BC.txt.gz',\n",
       " 'Diff_3/Diff_3_S1_L003_BC.txt.gz',\n",
       " 'Diff_4/Diff_4_S2_L002_BC.txt.gz',\n",
       " 'Diff_4/Diff_4_S2_L003_BC.txt.gz',\n",
       " 'Diff_4/Diff_4_S2_L004_BC.txt.gz',\n",
       " 'Diff_4/Diff_4_S2_L001_BC.txt.gz']"
      ]
     },
     "execution_count": 26,
     "metadata": {},
     "output_type": "execute_result"
    }
   ],
   "source": [
    "import glob\n",
    "glob.glob('*/*BC.txt.gz')"
   ]
  },
  {
   "cell_type": "code",
   "execution_count": 28,
   "metadata": {},
   "outputs": [
    {
     "name": "stdout",
     "output_type": "stream",
     "text": [
      "Regular_1\n",
      "Reading in all barcodes\n",
      "Processed 1000000 reads\n",
      "Processed 2000000 reads\n",
      "Regular_1\n",
      "Reading in all barcodes\n",
      "Processed 1000000 reads\n",
      "Processed 2000000 reads\n",
      "Regular_1\n",
      "Reading in all barcodes\n",
      "Processed 1000000 reads\n",
      "Processed 2000000 reads\n",
      "Regular_1\n",
      "Reading in all barcodes\n",
      "Processed 1000000 reads\n",
      "Processed 2000000 reads\n",
      "Regular_2\n",
      "Reading in all barcodes\n",
      "Processed 1000000 reads\n",
      "Processed 2000000 reads\n",
      "Processed 3000000 reads\n",
      "Processed 4000000 reads\n",
      "Processed 5000000 reads\n",
      "Regular_2\n",
      "Reading in all barcodes\n",
      "Processed 1000000 reads\n",
      "Processed 2000000 reads\n",
      "Processed 3000000 reads\n",
      "Processed 4000000 reads\n",
      "Processed 5000000 reads\n",
      "Regular_2\n",
      "Reading in all barcodes\n",
      "Processed 1000000 reads\n",
      "Processed 2000000 reads\n",
      "Processed 3000000 reads\n",
      "Processed 4000000 reads\n",
      "Processed 5000000 reads\n",
      "Regular_2\n",
      "Reading in all barcodes\n",
      "Processed 1000000 reads\n",
      "Processed 2000000 reads\n",
      "Processed 3000000 reads\n",
      "Processed 4000000 reads\n",
      "Diff_3\n",
      "Reading in all barcodes\n",
      "Processed 1000000 reads\n",
      "Processed 2000000 reads\n",
      "Processed 3000000 reads\n",
      "Processed 4000000 reads\n",
      "Processed 5000000 reads\n",
      "Diff_3\n",
      "Reading in all barcodes\n",
      "Processed 1000000 reads\n",
      "Processed 2000000 reads\n",
      "Processed 3000000 reads\n",
      "Processed 4000000 reads\n",
      "Processed 5000000 reads\n",
      "Diff_3\n",
      "Reading in all barcodes\n",
      "Processed 1000000 reads\n",
      "Processed 2000000 reads\n",
      "Processed 3000000 reads\n",
      "Processed 4000000 reads\n",
      "Processed 5000000 reads\n",
      "Processed 6000000 reads\n",
      "Diff_3\n",
      "Reading in all barcodes\n",
      "Processed 1000000 reads\n",
      "Processed 2000000 reads\n",
      "Processed 3000000 reads\n",
      "Processed 4000000 reads\n",
      "Processed 5000000 reads\n",
      "Diff_4\n",
      "Reading in all barcodes\n",
      "Processed 1000000 reads\n",
      "Diff_4\n",
      "Reading in all barcodes\n",
      "Processed 1000000 reads\n",
      "Diff_4\n",
      "Reading in all barcodes\n",
      "Processed 1000000 reads\n",
      "Diff_4\n",
      "Reading in all barcodes\n",
      "Processed 1000000 reads\n"
     ]
    }
   ],
   "source": [
    "import gzip\n",
    "import os\n",
    "\n",
    "counts = {}\n",
    "for inf in glob.glob('*/*BC.txt.gz'):\n",
    "    sample = os.path.dirname(inf)\n",
    "    print(sample)\n",
    "    f = gzip.open(inf)\n",
    "    l = f.readline().decode(\"utf-8\").strip('\\n')\n",
    "    current_tag = []\n",
    "    i = 0\n",
    "    print('Reading in all barcodes')\n",
    "    while not (l == '' and len(current_tag)==0):\n",
    "        i += 1\n",
    "        if i % (3*10**6)==0: print('Processed '+repr(int(i/3))+' reads')\n",
    "        if l == '':\n",
    "            current_tag = []\n",
    "        elif l[0] == '>':\n",
    "            current_tag = l[1:].split(',')\n",
    "        elif l != '' and len(current_tag)==3:\n",
    "            current_tag.append(l)\n",
    "            current_tag = tuple(current_tag)\n",
    "            if not current_tag in counts: counts[current_tag] = 0\n",
    "            counts[current_tag] += 1\n",
    "        l = f.readline().decode(\"utf-8\").strip('\\n')\n",
    "    f.close()"
   ]
  },
  {
   "cell_type": "markdown",
   "metadata": {},
   "source": [
    "## Filter by number of reads\n",
    "Continue with analysis with (Sample, Cell-BC, UMI, GFP-BC) combinations supported by at least N_READS reads"
   ]
  },
  {
   "cell_type": "code",
   "execution_count": 29,
   "metadata": {},
   "outputs": [
    {
     "data": {
      "text/plain": [
       "25446565"
      ]
     },
     "execution_count": 29,
     "metadata": {},
     "output_type": "execute_result"
    }
   ],
   "source": [
    "len(counts.keys())"
   ]
  },
  {
   "cell_type": "code",
   "execution_count": 32,
   "metadata": {},
   "outputs": [
    {
     "data": {
      "text/plain": [
       "[('Regular_1',\n",
       "  'GCCAGTGCACGTACTA',\n",
       "  'TTTGTGATTACT',\n",
       "  'AAAATGAAACCAGTGCACAGGTGATCACG'),\n",
       " ('Regular_1',\n",
       "  'CAGCAGCAGTCACGCC',\n",
       "  'TTTGACCAAAAC',\n",
       "  'CTCGTGGTACCATATCACGATTGAGGCAG'),\n",
       " ('Regular_1',\n",
       "  'GCACATAAGATGGTAT',\n",
       "  'CCAATCCCAGTG',\n",
       "  'CACCTGTTCGCAATCTACCTTCGACTACG')]"
      ]
     },
     "execution_count": 32,
     "metadata": {},
     "output_type": "execute_result"
    }
   ],
   "source": [
    "list(counts.keys())[:3]"
   ]
  },
  {
   "cell_type": "code",
   "execution_count": 31,
   "metadata": {},
   "outputs": [
    {
     "data": {
      "text/plain": [
       "90425293"
      ]
     },
     "execution_count": 31,
     "metadata": {},
     "output_type": "execute_result"
    }
   ],
   "source": [
    "sum(num_reads) # all cell barcode"
   ]
  },
  {
   "cell_type": "code",
   "execution_count": 34,
   "metadata": {},
   "outputs": [
    {
     "data": {
      "image/png": "[encoded data removed]",
      "text/plain": [
       "<Figure size 432x288 with 1 Axes>"
      ]
     },
     "metadata": {
      "needs_background": "light"
     },
     "output_type": "display_data"
    }
   ],
   "source": [
    "num_reads = [v for k,v in counts.items()]\n",
    "# To specify the number of ticks on both or any single axes\n",
    "plt.hist(np.log(num_reads)/np.log(10), bins=50)\n",
    "plt.locator_params(axis='x', nbins=5)\n",
    "#pyplot.locator_params(axis='x', nbins=10)\n",
    "plt.plot([np.log(N_READS)/np.log(10),\n",
    "          np.log(N_READS)/np.log(N_READS)],[1,10**5],'-k',linewidth=2)\n",
    "plt.xticks(range(6),np.logspace(0,5,6))\n",
    "plt.text(np.log(N_READS)/np.log(10)*1.1,10**5*.8,'N_READS cutoff', fontsize=12)\n",
    "plt.yscale('log')"
   ]
  },
  {
   "cell_type": "code",
   "execution_count": 40,
   "metadata": {},
   "outputs": [
    {
     "data": {
      "text/plain": [
       "<matplotlib.legend.Legend at 0x7fb627db1520>"
      ]
     },
     "execution_count": 40,
     "metadata": {},
     "output_type": "execute_result"
    },
    {
     "data": {
      "image/png": "[encoded data removed]",
      "text/plain": [
       "<Figure size 432x288 with 1 Axes>"
      ]
     },
     "metadata": {
      "needs_background": "light"
     },
     "output_type": "display_data"
    }
   ],
   "source": [
    "for condition in ['Regular_1', 'Regular_2', 'Diff_3', 'Diff_4']:\n",
    "    num_reads = [v for k,v in counts.items() if k[0]==condition]\n",
    "    # To specify the number of ticks on both or any single axes\n",
    "    plt.hist(np.log(num_reads)/np.log(10), bins=50, alpha=0.3, label=condition)\n",
    "    plt.locator_params(axis='x', nbins=5)\n",
    "    #pyplot.locator_params(axis='x', nbins=10)\n",
    "    plt.plot([np.log(N_READS)/np.log(10),\n",
    "              np.log(N_READS)/np.log(N_READS)],[1,10**5],'-k',linewidth=2)\n",
    "    plt.xticks(range(6),np.logspace(0,5,6))\n",
    "    plt.text(np.log(N_READS)/np.log(10)*1.1,10**5*.8,'N_READS cutoff', fontsize=12)\n",
    "    plt.yscale('log')\n",
    "plt.xlabel('Reads number')    \n",
    "plt.ylabel('Frequency')\n",
    "plt.legend()"
   ]
  },
  {
   "cell_type": "code",
   "execution_count": 41,
   "metadata": {},
   "outputs": [
    {
     "name": "stdout",
     "output_type": "stream",
     "text": [
      "Retaining 3032315 out of 25446565 (Sample,Cell-BC,UMI,GFP-BC) combinations\n"
     ]
    }
   ],
   "source": [
    "counts_filtered = {k:v for k,v in counts.items() if v >= N_READS}\n",
    "print('Retaining '+repr(len(counts_filtered))+ ' out of '+repr(len(counts))+' (Sample,Cell-BC,UMI,GFP-BC) combinations')"
   ]
  },
  {
   "cell_type": "code",
   "execution_count": 42,
   "metadata": {},
   "outputs": [
    {
     "data": {
      "text/plain": [
       "0.11916402076272377"
      ]
     },
     "execution_count": 42,
     "metadata": {},
     "output_type": "execute_result"
    }
   ],
   "source": [
    "3032315.0 / 25446565"
   ]
  },
  {
   "cell_type": "markdown",
   "metadata": {},
   "source": [
    "## Collapse GFP-BCs by hamming distance"
   ]
  },
  {
   "cell_type": "code",
   "execution_count": 43,
   "metadata": {},
   "outputs": [
    {
     "name": "stdout",
     "output_type": "stream",
     "text": [
      "Mapped 500 out of 20183 barcodes\n",
      "Mapped 1000 out of 20183 barcodes\n",
      "Mapped 1500 out of 20183 barcodes\n",
      "Mapped 2000 out of 20183 barcodes\n",
      "Mapped 2500 out of 20183 barcodes\n",
      "Mapped 3000 out of 20183 barcodes\n",
      "Mapped 3500 out of 20183 barcodes\n",
      "Mapped 4000 out of 20183 barcodes\n",
      "Mapped 4500 out of 20183 barcodes\n",
      "Mapped 5000 out of 20183 barcodes\n",
      "Mapped 5500 out of 20183 barcodes\n",
      "Mapped 6000 out of 20183 barcodes\n",
      "Mapped 6500 out of 20183 barcodes\n",
      "Mapped 7000 out of 20183 barcodes\n",
      "Mapped 7500 out of 20183 barcodes\n",
      "Mapped 8000 out of 20183 barcodes\n",
      "Mapped 8500 out of 20183 barcodes\n",
      "Mapped 9000 out of 20183 barcodes\n",
      "Mapped 9500 out of 20183 barcodes\n",
      "Mapped 10000 out of 20183 barcodes\n",
      "Mapped 10500 out of 20183 barcodes\n",
      "Mapped 11000 out of 20183 barcodes\n",
      "Mapped 11500 out of 20183 barcodes\n",
      "Mapped 12000 out of 20183 barcodes\n",
      "Mapped 12500 out of 20183 barcodes\n",
      "Mapped 13000 out of 20183 barcodes\n",
      "Mapped 13500 out of 20183 barcodes\n",
      "Mapped 14000 out of 20183 barcodes\n",
      "Mapped 14500 out of 20183 barcodes\n",
      "Mapped 15000 out of 20183 barcodes\n",
      "Mapped 15500 out of 20183 barcodes\n",
      "Mapped 16000 out of 20183 barcodes\n",
      "Mapped 16500 out of 20183 barcodes\n",
      "Mapped 17000 out of 20183 barcodes\n",
      "Mapped 17500 out of 20183 barcodes\n",
      "Mapped 18000 out of 20183 barcodes\n",
      "Mapped 18500 out of 20183 barcodes\n",
      "Mapped 19000 out of 20183 barcodes\n",
      "Mapped 19500 out of 20183 barcodes\n",
      "Mapped 20000 out of 20183 barcodes\n",
      "\n",
      "Collapsed 2529 barcodes\n"
     ]
    }
   ],
   "source": [
    "def hamming(bc1,bc2): return np.sum([x1 != x2 for x1,x2 in zip(bc1,bc2)])\n",
    "\n",
    "all_gfp_bcs = sorted(set([k[3] for k in counts_filtered]))\n",
    "good_gfp_bcs = []\n",
    "bc_map = {}\n",
    "for i,bc1 in enumerate(all_gfp_bcs):\n",
    "    if i > 0 and i % 500 == 0: print('Mapped '+repr(i)+' out of '+repr(len(all_gfp_bcs))+' barcodes')\n",
    "    mapped = False\n",
    "    for bc2 in good_gfp_bcs:\n",
    "        if hamming(bc1,bc2) <= N_HAMMING:\n",
    "            mapped = True\n",
    "            bc_map[bc1] = bc2\n",
    "            break\n",
    "    if not mapped:\n",
    "        good_gfp_bcs.append(bc1)\n",
    "\n",
    "print('\\nCollapsed '+repr(len(bc_map))+' barcodes')\n",
    "for bc in good_gfp_bcs: bc_map[bc] = bc"
   ]
  },
  {
   "cell_type": "code",
   "execution_count": 44,
   "metadata": {},
   "outputs": [
    {
     "data": {
      "text/plain": [
       "20183"
      ]
     },
     "execution_count": 44,
     "metadata": {},
     "output_type": "execute_result"
    }
   ],
   "source": [
    "len(bc_map.values())"
   ]
  },
  {
   "cell_type": "code",
   "execution_count": 47,
   "metadata": {},
   "outputs": [
    {
     "data": {
      "text/plain": [
       "20183"
      ]
     },
     "execution_count": 47,
     "metadata": {},
     "output_type": "execute_result"
    }
   ],
   "source": [
    "len(good_gfp_bcs)+2529"
   ]
  },
  {
   "cell_type": "markdown",
   "metadata": {},
   "source": [
    "## Filter GFP-barcodes by UMI\n",
    "Index (UMI, GFP-BC) combinations to cells, then filter out BCs supported by fewer than N_UMIS UMIs"
   ]
  },
  {
   "cell_type": "code",
   "execution_count": 59,
   "metadata": {},
   "outputs": [
    {
     "data": {
      "text/plain": [
       "[('Regular_1',\n",
       "  'GCCAGTGCACGTACTA',\n",
       "  'TTTGTGATTACT',\n",
       "  'AAAATGAAACCAGTGCACAGGTGATCACG'),\n",
       " ('Regular_1',\n",
       "  'CAGCAGCAGTCACGCC',\n",
       "  'TTTGACCAAAAC',\n",
       "  'CTCGTGGTACCATATCACGATTGAGGCAG')]"
      ]
     },
     "execution_count": 59,
     "metadata": {},
     "output_type": "execute_result"
    }
   ],
   "source": [
    "list(counts_filtered.keys())[:2]"
   ]
  },
  {
   "cell_type": "code",
   "execution_count": 68,
   "metadata": {},
   "outputs": [
    {
     "name": "stdout",
     "output_type": "stream",
     "text": [
      "Regular_2 TTTGTTGGTTAAGGAT\n"
     ]
    }
   ],
   "source": [
    "cell_data = {}\n",
    "for lib,cell in zip(lib_names,cell_bcs):\n",
    "    cell_data[(lib,cell)] = {}\n",
    "print(lib,cell)\n",
    "\n",
    "for lib,cell,umi,BC in counts_filtered.keys():\n",
    "    if (lib,cell) in cell_data:\n",
    "        if not BC in cell_data[(lib,cell)]:\n",
    "            cell_data[(lib,cell)][BC] = 0\n",
    "        cell_data[(lib,cell)][BC] += 1"
   ]
  },
  {
   "cell_type": "code",
   "execution_count": 69,
   "metadata": {},
   "outputs": [],
   "source": [
    "xaxis = 50        \n",
    "BC_lists = []\n",
    "for i in range(1,xaxis):\n",
    "    BC_list = []\n",
    "    for lib,cell in zip(lib_names,cell_bcs):\n",
    "        bc_counts = cell_data[(lib,cell)]\n",
    "        valid_bcs = [bc_map[k] for k,v in bc_counts.items() if v >= i]\n",
    "        BC_list.append(''.join(sorted(valid_bcs)))\n",
    "    BC_lists.append(BC_list)"
   ]
  },
  {
   "cell_type": "code",
   "execution_count": 70,
   "metadata": {},
   "outputs": [
    {
     "data": {
      "text/plain": [
       "(27506, 27506)"
      ]
     },
     "execution_count": 70,
     "metadata": {},
     "output_type": "execute_result"
    }
   ],
   "source": [
    "len(list(cell_data.keys())), len(cell_bcs)"
   ]
  },
  {
   "cell_type": "code",
   "execution_count": 71,
   "metadata": {},
   "outputs": [
    {
     "data": {
      "text/plain": [
       "3"
      ]
     },
     "execution_count": 71,
     "metadata": {},
     "output_type": "execute_result"
    }
   ],
   "source": [
    "N_UMIS"
   ]
  },
  {
   "cell_type": "code",
   "execution_count": 87,
   "metadata": {},
   "outputs": [
    {
     "name": "stdout",
     "output_type": "stream",
     "text": [
      "\n",
      "Final annotation has 11770 clones in 18065 cells\n"
     ]
    },
    {
     "data": {
      "image/png": "[encoded data removed]",
      "text/plain": [
       "<Figure size 432x288 with 1 Axes>"
      ]
     },
     "metadata": {
      "needs_background": "light"
     },
     "output_type": "display_data"
    }
   ],
   "source": [
    "efficiency = np.array([len([ll for ll in l if len(ll)>0]) for l in BC_lists]) / len(cell_bcs)\n",
    "plt.plot(range(1,xaxis),efficiency)\n",
    "plt.plot([N_UMIS,N_UMIS], [np.min(efficiency),np.max(efficiency)],'-k',linewidth=2)\n",
    "plt.text(N_UMIS*1.1, np.max(efficiency)*.95,'UMI cutoff',fontsize=14)\n",
    "plt.xlabel(\"Larry barcode UMI read count per Sample-Cell\")\n",
    "plt.ylabel(\"Barcoding proportion of all cells\")\n",
    "final_BCs = BC_lists[N_UMIS-1]\n",
    "print('\\nFinal annotation has '+\\\n",
    "      repr(len(set(final_BCs)))+' clones in '+repr(len([l for l in final_BCs if len(l)>0]))+' cells')"
   ]
  },
  {
   "cell_type": "code",
   "execution_count": 82,
   "metadata": {},
   "outputs": [
    {
     "data": {
      "text/plain": [
       "Text(0, 0.5, 'Frequency')"
      ]
     },
     "execution_count": 82,
     "metadata": {},
     "output_type": "execute_result"
    },
    {
     "data": {
      "image/png": "[encoded data removed]",
      "text/plain": [
       "<Figure size 432x288 with 1 Axes>"
      ]
     },
     "metadata": {
      "needs_background": "light"
     },
     "output_type": "display_data"
    }
   ],
   "source": [
    "freq = []\n",
    "for lib,cell in zip(lib_names,cell_bcs):\n",
    "    freq.append(len(cell_data[(lib,cell)].keys()))\n",
    "plt.hist(freq, bins=30)\n",
    "plt.yscale('log')\n",
    "plt.xlabel(\"Barcode count per Sample-Cell\")\n",
    "plt.ylabel(\"Frequency\")    "
   ]
  },
  {
   "cell_type": "code",
   "execution_count": 88,
   "metadata": {},
   "outputs": [
    {
     "data": {
      "text/plain": [
       "Text(0, 0.5, 'Frequency')"
      ]
     },
     "execution_count": 88,
     "metadata": {},
     "output_type": "execute_result"
    },
    {
     "data": {
      "image/png": "[encoded data removed]",
      "text/plain": [
       "<Figure size 432x288 with 1 Axes>"
      ]
     },
     "metadata": {
      "needs_background": "light"
     },
     "output_type": "display_data"
    }
   ],
   "source": [
    "freq = []\n",
    "for lib,cell in zip(lib_names,cell_bcs):\n",
    "    freq.append(len([cell_data[(lib,cell)][key] for key in cell_data[(lib,cell)].keys() if cell_data[(lib,cell)][key]>=N_UMIS]))\n",
    "N_UMIS    \n",
    "\n",
    "plt.hist(freq, bins=30)\n",
    "plt.yscale('log')\n",
    "plt.xlabel(\"Larry barcode category count per Sample-Cell\")\n",
    "plt.ylabel(\"Frequency\")"
   ]
  },
  {
   "cell_type": "code",
   "execution_count": 44,
   "metadata": {},
   "outputs": [
    {
     "data": {
      "text/plain": [
       "(27506, 49)"
      ]
     },
     "execution_count": 44,
     "metadata": {},
     "output_type": "execute_result"
    }
   ],
   "source": [
    "len(BC_list), len(BC_lists)"
   ]
  },
  {
   "cell_type": "markdown",
   "metadata": {},
   "source": [
    "## Output clonal anotations\n",
    "There are three output files: \n",
    "- clone_mat.csv\n",
    "- clone_mat.npy\n",
    "- barcode_list.txt\n",
    "\n",
    "The two clone_mat files store a binary matrix where rows are cells and columns are clones. A \"1\" at entry (i,j) indicates that cell i belongs to clone j. The barcode_list file stores the barcode for each cell. Two barcode strings separated by an underscore indicates that the cell contains multiple barcodes. An empty line implies no barcode for that cell."
   ]
  },
  {
   "cell_type": "code",
   "execution_count": 94,
   "metadata": {},
   "outputs": [
    {
     "data": {
      "text/plain": [
       "Text(0, 0.5, 'Frequency')"
      ]
     },
     "execution_count": 94,
     "metadata": {},
     "output_type": "execute_result"
    },
    {
     "data": {
      "image/png": "[encoded data removed]",
      "text/plain": [
       "<Figure size 432x288 with 1 Axes>"
      ]
     },
     "metadata": {
      "needs_background": "light"
     },
     "output_type": "display_data"
    }
   ],
   "source": [
    "plt.hist(list(map(lambda x:len(x), final_BCs)), bins=50)\n",
    "plt.yscale('log')\n",
    "plt.xlabel(\"Larry barcode length\")\n",
    "plt.ylabel(\"Frequency\")"
   ]
  },
  {
   "cell_type": "code",
   "execution_count": 95,
   "metadata": {},
   "outputs": [
    {
     "data": {
      "text/plain": [
       "29"
      ]
     },
     "execution_count": 95,
     "metadata": {},
     "output_type": "execute_result"
    }
   ],
   "source": [
    "len('CACCTGTTCGCAATCTACCTTCGACTACG')"
   ]
  },
  {
   "cell_type": "code",
   "execution_count": 98,
   "metadata": {},
   "outputs": [
    {
     "data": {
      "text/plain": [
       "(27506, 11770)"
      ]
     },
     "execution_count": 98,
     "metadata": {},
     "output_type": "execute_result"
    }
   ],
   "source": [
    "len(final_BCs), len(set(final_BCs))"
   ]
  },
  {
   "cell_type": "code",
   "execution_count": 99,
   "metadata": {},
   "outputs": [
    {
     "data": {
      "text/plain": [
       "18065"
      ]
     },
     "execution_count": 99,
     "metadata": {},
     "output_type": "execute_result"
    }
   ],
   "source": [
    "len([l for l in final_BCs if l!=''])"
   ]
  },
  {
   "cell_type": "code",
   "execution_count": 100,
   "metadata": {},
   "outputs": [
    {
     "data": {
      "text/plain": [
       "11769"
      ]
     },
     "execution_count": 100,
     "metadata": {},
     "output_type": "execute_result"
    }
   ],
   "source": [
    "len(set(sorted([bc for bc in final_BCs if bc != ''])))"
   ]
  },
  {
   "cell_type": "code",
   "execution_count": 101,
   "metadata": {},
   "outputs": [
    {
     "data": {
      "text/plain": [
       "11769"
      ]
     },
     "execution_count": 101,
     "metadata": {},
     "output_type": "execute_result"
    }
   ],
   "source": [
    "BC_set = sorted(set([bc for bc in final_BCs if bc != '']))\n",
    "len(BC_set)"
   ]
  },
  {
   "cell_type": "code",
   "execution_count": 103,
   "metadata": {},
   "outputs": [],
   "source": [
    "clone_mat = np.zeros((len(final_BCs),len(BC_set))) # (cell, LarryBC)\n",
    "for i, bc in enumerate(final_BCs):\n",
    "    if bc != '':\n",
    "        j = BC_set.index(bc)\n",
    "        clone_mat[i,j] = 1\n",
    "clone_mat = np.array(clone_mat,dtype=int)"
   ]
  },
  {
   "cell_type": "code",
   "execution_count": 104,
   "metadata": {},
   "outputs": [
    {
     "data": {
      "text/plain": [
       "((27506, 11769), list)"
      ]
     },
     "execution_count": 104,
     "metadata": {},
     "output_type": "execute_result"
    }
   ],
   "source": [
    "clone_mat.shape, type(BC_set)"
   ]
  },
  {
   "cell_type": "code",
   "execution_count": 123,
   "metadata": {},
   "outputs": [
    {
     "data": {
      "text/plain": [
       "3689"
      ]
     },
     "execution_count": 123,
     "metadata": {},
     "output_type": "execute_result"
    }
   ],
   "source": [
    "(clone_mat.sum(axis=0) > 1).sum()"
   ]
  },
  {
   "cell_type": "code",
   "execution_count": 108,
   "metadata": {},
   "outputs": [
    {
     "data": {
      "text/plain": [
       "Text(0, 0.5, 'Larry barcode frequency')"
      ]
     },
     "execution_count": 108,
     "metadata": {},
     "output_type": "execute_result"
    },
    {
     "data": {
      "image/png": "[encoded data removed]",
      "text/plain": [
       "<Figure size 432x288 with 1 Axes>"
      ]
     },
     "metadata": {
      "needs_background": "light"
     },
     "output_type": "display_data"
    }
   ],
   "source": [
    "plt.hist(clone_mat.sum(axis=0), bins=50)\n",
    "plt.yscale('log')\n",
    "plt.xlabel(\"Barcoded cells per Larry barcode\")\n",
    "plt.ylabel(\"Larry barcode frequency\")"
   ]
  },
  {
   "cell_type": "code",
   "execution_count": 109,
   "metadata": {},
   "outputs": [
    {
     "data": {
      "text/plain": [
       "470896"
      ]
     },
     "execution_count": 109,
     "metadata": {},
     "output_type": "execute_result"
    }
   ],
   "source": [
    "np.savetxt('RD_larry2_clone_mat_condition_specific2.csv',clone_mat,delimiter=',',fmt='%i') ## clone matrix\n",
    "# np.save('RD_larry2_clone_mat_condition_specific2.npy',clone_mat)\n",
    "open('RD_larry2barcode_cell_list_condition_specific2.txt','w').write('\\n'.join(final_BCs))\n",
    "open('RD_larry2barcode_list_condition_specific2.txt','w').write('\\n'.join(list(BC_set))) ## use this as larry barcodes"
   ]
  },
  {
   "cell_type": "code",
   "execution_count": 113,
   "metadata": {},
   "outputs": [],
   "source": [
    "cell_barcodes1 = pd.read_table('Diff_3/outs/filtered_feature_bc_matrix/barcodes.tsv.gz',\n",
    "                               header=None)\n",
    "cell_barcodes2 = pd.read_table('Diff_4/outs/filtered_feature_bc_matrix/barcodes.tsv.gz',\n",
    "                               header=None)\n",
    "\n",
    "cell_barcodes3 = pd.read_table('Regular_1/outs/filtered_feature_bc_matrix/barcodes.tsv.gz',\n",
    "                               header=None)\n",
    "cell_barcodes4 = pd.read_table('Regular_2/outs/filtered_feature_bc_matrix/barcodes.tsv.gz',\n",
    "                               header=None)\n",
    "\n",
    "cell_barcodes1.loc[:, 'library'] = 'Diff_3'\n",
    "cell_barcodes2.loc[:, 'library'] = 'Diff_4'\n",
    "cell_barcodes3.loc[:, 'library'] = 'Regular_1'\n",
    "cell_barcodes4.loc[:, 'library'] = 'Regular_2'\n",
    "\n",
    "cell_barcodes = pd.concat([cell_barcodes1, cell_barcodes2, cell_barcodes3, cell_barcodes4])\n",
    "cell_barcodes.iloc[:, 0] = list(map(lambda x:x.split('-')[0], list(cell_barcodes.iloc[:, 0].values)))"
   ]
  },
  {
   "cell_type": "code",
   "execution_count": 116,
   "metadata": {},
   "outputs": [
    {
     "data": {
      "text/plain": [
       "(27506, 2)"
      ]
     },
     "execution_count": 116,
     "metadata": {},
     "output_type": "execute_result"
    }
   ],
   "source": [
    "cell_barcodes.shape"
   ]
  },
  {
   "cell_type": "code",
   "execution_count": 119,
   "metadata": {},
   "outputs": [
    {
     "data": {
      "text/html": [
       "<div>\n",
       "<style scoped>\n",
       "    .dataframe tbody tr th:only-of-type {\n",
       "        vertical-align: middle;\n",
       "    }\n",
       "\n",
       "    .dataframe tbody tr th {\n",
       "        vertical-align: top;\n",
       "    }\n",
       "\n",
       "    .dataframe thead th {\n",
       "        text-align: right;\n",
       "    }\n",
       "</style>\n",
       "<table border=\"1\" class=\"dataframe\">\n",
       "  <thead>\n",
       "    <tr style=\"text-align: right;\">\n",
       "      <th></th>\n",
       "      <th>0</th>\n",
       "      <th>library</th>\n",
       "    </tr>\n",
       "  </thead>\n",
       "  <tbody>\n",
       "    <tr>\n",
       "      <th>0</th>\n",
       "      <td>AAACCCAAGACATGCG</td>\n",
       "      <td>Diff_3</td>\n",
       "    </tr>\n",
       "    <tr>\n",
       "      <th>1</th>\n",
       "      <td>AAACCCAGTCCGAAAG</td>\n",
       "      <td>Diff_3</td>\n",
       "    </tr>\n",
       "    <tr>\n",
       "      <th>2</th>\n",
       "      <td>AAACCCATCAATCCGA</td>\n",
       "      <td>Diff_3</td>\n",
       "    </tr>\n",
       "    <tr>\n",
       "      <th>3</th>\n",
       "      <td>AAACCCATCGGAACTT</td>\n",
       "      <td>Diff_3</td>\n",
       "    </tr>\n",
       "    <tr>\n",
       "      <th>4</th>\n",
       "      <td>AAACCCATCTGCTAGA</td>\n",
       "      <td>Diff_3</td>\n",
       "    </tr>\n",
       "  </tbody>\n",
       "</table>\n",
       "</div>"
      ],
      "text/plain": [
       "                  0 library\n",
       "0  AAACCCAAGACATGCG  Diff_3\n",
       "1  AAACCCAGTCCGAAAG  Diff_3\n",
       "2  AAACCCATCAATCCGA  Diff_3\n",
       "3  AAACCCATCGGAACTT  Diff_3\n",
       "4  AAACCCATCTGCTAGA  Diff_3"
      ]
     },
     "execution_count": 119,
     "metadata": {},
     "output_type": "execute_result"
    }
   ],
   "source": [
    "cell_barcodes.head()"
   ]
  },
  {
   "cell_type": "code",
   "execution_count": 120,
   "metadata": {},
   "outputs": [],
   "source": [
    "cell_barcodes.to_csv('RD_cellbarcode.txt')"
   ]
  },
  {
   "cell_type": "code",
   "execution_count": 121,
   "metadata": {},
   "outputs": [
    {
     "name": "stdout",
     "output_type": "stream",
     "text": [
      "27507 RD_cellbarcode.txt\r\n"
     ]
    }
   ],
   "source": [
    "!wc -l RD_cellbarcode.txt"
   ]
  }
 ],
 "metadata": {
  "kernelspec": {
   "display_name": "Python 3",
   "language": "python",
   "name": "python3"
  },
  "language_info": {
   "codemirror_mode": {
    "name": "ipython",
    "version": 3
   },
   "file_extension": ".py",
   "mimetype": "text/x-python",
   "name": "python",
   "nbconvert_exporter": "python",
   "pygments_lexer": "ipython3",
   "version": "3.8.8"
  },
  "toc": {
   "base_numbering": 1,
   "nav_menu": {},
   "number_sections": true,
   "sideBar": true,
   "skip_h1_title": false,
   "title_cell": "Table of Contents",
   "title_sidebar": "Contents",
   "toc_cell": false,
   "toc_position": {},
   "toc_section_display": true,
   "toc_window_display": true
  }
 },
 "nbformat": 4,
 "nbformat_minor": 2
}
