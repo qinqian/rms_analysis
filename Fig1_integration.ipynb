{
 "cells": [
  {
   "cell_type": "code",
   "execution_count": 38,
   "metadata": {},
   "outputs": [],
   "source": [
    "import scanpy as sc\n",
    "import rpy2.robjects as ro\n",
    "from rpy2.robjects.packages import importr\n",
    "from rpy2.robjects import r, pandas2ri\n",
    "from glob import glob\n",
    "from rpy2.robjects.conversion import localconverter\n",
    "import seaborn as sns\n",
    "import pandas as pd\n",
    "import matplotlib.pyplot as plt\n",
    "%matplotlib inline"
   ]
  },
  {
   "cell_type": "code",
   "execution_count": 2,
   "metadata": {},
   "outputs": [],
   "source": [
    "seurat = importr('Seurat')"
   ]
  },
  {
   "cell_type": "code",
   "execution_count": 6,
   "metadata": {},
   "outputs": [],
   "source": [
    "seurat_rds = glob(f'../results/seurat_intersect_velocity/*_seu.rds')"
   ]
  },
  {
   "cell_type": "code",
   "execution_count": 25,
   "metadata": {},
   "outputs": [],
   "source": [
    "samples = []\n",
    "for s in seurat_rds:\n",
    "    label = s.split('_')[-2].replace('velocity/', '')\n",
    "    test_seu = r('readRDS')(s)\n",
    "    reductions = r['data.frame'](r['slot'](test_seu.slots['reductions'].rx2('umap'),\n",
    "                                           'cell.embeddings')) \n",
    "    with localconverter(ro.default_converter + pandas2ri.converter):                                                                                     \n",
    "       reductions = ro.conversion.rpy2py(reductions)\n",
    "    reductions.loc[:, 'Sample'] = label\n",
    "    samples.append(reductions)"
   ]
  },
  {
   "cell_type": "code",
   "execution_count": 28,
   "metadata": {},
   "outputs": [],
   "source": [
    "samples_df = pd.concat(samples, axis=0)"
   ]
  }
 ],
 "metadata": {
  "kernelspec": {
   "display_name": "Python 3",
   "language": "python",
   "name": "python3"
  },
  "language_info": {
   "codemirror_mode": {
    "name": "ipython",
    "version": 3
   },
   "file_extension": ".py",
   "mimetype": "text/x-python",
   "name": "python",
   "nbconvert_exporter": "python",
   "pygments_lexer": "ipython3",
   "version": "3.7.3"
  }
 },
 "nbformat": 4,
 "nbformat_minor": 2
}
